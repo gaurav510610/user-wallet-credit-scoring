{
 "cells": [
  {
   "cell_type": "code",
   "execution_count": 1,
   "id": "193945fd-81d2-4bdc-8c60-3f1250f9bc4b",
   "metadata": {},
   "outputs": [],
   "source": [
    "import pandas as pd\n",
    "import json \n",
    "import numpy as np\n",
    "from sklearn.cluster import KMeans\n",
    "from sklearn.preprocessing import MinMaxScaler\n",
    "import matplotlib.pyplot as plt\n",
    "import seaborn as sns\n"
   ]
  },
  {
   "cell_type": "code",
   "execution_count": 2,
   "id": "4c63ff6b-9135-4016-b3a3-264d7e36d590",
   "metadata": {},
   "outputs": [
    {
     "data": {
      "text/html": [
       "<div>\n",
       "<style scoped>\n",
       "    .dataframe tbody tr th:only-of-type {\n",
       "        vertical-align: middle;\n",
       "    }\n",
       "\n",
       "    .dataframe tbody tr th {\n",
       "        vertical-align: top;\n",
       "    }\n",
       "\n",
       "    .dataframe thead th {\n",
       "        text-align: right;\n",
       "    }\n",
       "</style>\n",
       "<table border=\"1\" class=\"dataframe\">\n",
       "  <thead>\n",
       "    <tr style=\"text-align: right;\">\n",
       "      <th></th>\n",
       "      <th>_id</th>\n",
       "      <th>userWallet</th>\n",
       "      <th>network</th>\n",
       "      <th>protocol</th>\n",
       "      <th>txHash</th>\n",
       "      <th>logId</th>\n",
       "      <th>timestamp</th>\n",
       "      <th>blockNumber</th>\n",
       "      <th>action</th>\n",
       "      <th>actionData</th>\n",
       "      <th>__v</th>\n",
       "      <th>createdAt</th>\n",
       "      <th>updatedAt</th>\n",
       "    </tr>\n",
       "  </thead>\n",
       "  <tbody>\n",
       "    <tr>\n",
       "      <th>0</th>\n",
       "      <td>{'$oid': '681d38fed63812d4655f571a'}</td>\n",
       "      <td>0x00000000001accfa9cef68cf5371a23025b6d4b6</td>\n",
       "      <td>polygon</td>\n",
       "      <td>aave_v2</td>\n",
       "      <td>0x695c69acf608fbf5d38e48ca5535e118cc213a89e3d6...</td>\n",
       "      <td>0x695c69acf608fbf5d38e48ca5535e118cc213a89e3d6...</td>\n",
       "      <td>1629178166</td>\n",
       "      <td>1629178166</td>\n",
       "      <td>deposit</td>\n",
       "      <td>{'type': 'Deposit', 'amount': '2000000000', 'a...</td>\n",
       "      <td>0</td>\n",
       "      <td>{'$date': '2025-05-08T23:06:39.465Z'}</td>\n",
       "      <td>{'$date': '2025-05-08T23:06:39.465Z'}</td>\n",
       "    </tr>\n",
       "    <tr>\n",
       "      <th>1</th>\n",
       "      <td>{'$oid': '681aa70dd6df53021cc6f3c0'}</td>\n",
       "      <td>0x000000000051d07a4fb3bd10121a343d85818da6</td>\n",
       "      <td>polygon</td>\n",
       "      <td>aave_v2</td>\n",
       "      <td>0xe6fc162c86b2928b0ba9b82bda672763665152b9de9d...</td>\n",
       "      <td>0xe6fc162c86b2928b0ba9b82bda672763665152b9de9d...</td>\n",
       "      <td>1621525013</td>\n",
       "      <td>1621525013</td>\n",
       "      <td>deposit</td>\n",
       "      <td>{'type': 'Deposit', 'amount': '145000000000000...</td>\n",
       "      <td>0</td>\n",
       "      <td>{'$date': '2025-05-07T00:19:26.159Z'}</td>\n",
       "      <td>{'$date': '2025-05-07T00:19:26.159Z'}</td>\n",
       "    </tr>\n",
       "    <tr>\n",
       "      <th>2</th>\n",
       "      <td>{'$oid': '681d04c2d63812d4654c733e'}</td>\n",
       "      <td>0x000000000096026fb41fc39f9875d164bd82e2dc</td>\n",
       "      <td>polygon</td>\n",
       "      <td>aave_v2</td>\n",
       "      <td>0xe2d7eb815c89331a734ed6f204a06c385a1b39040baa...</td>\n",
       "      <td>0xe2d7eb815c89331a734ed6f204a06c385a1b39040baa...</td>\n",
       "      <td>1627118913</td>\n",
       "      <td>1627118913</td>\n",
       "      <td>deposit</td>\n",
       "      <td>{'type': 'Deposit', 'amount': '100000000000000...</td>\n",
       "      <td>0</td>\n",
       "      <td>{'$date': '2025-05-08T19:23:47.877Z'}</td>\n",
       "      <td>{'$date': '2025-05-08T19:23:47.877Z'}</td>\n",
       "    </tr>\n",
       "    <tr>\n",
       "      <th>3</th>\n",
       "      <td>{'$oid': '681d133bd63812d46551b6ef'}</td>\n",
       "      <td>0x000000000096026fb41fc39f9875d164bd82e2dc</td>\n",
       "      <td>polygon</td>\n",
       "      <td>aave_v2</td>\n",
       "      <td>0x0d63a2eacd82b82f868db825ea7385e6bd8d046ee729...</td>\n",
       "      <td>0x0d63a2eacd82b82f868db825ea7385e6bd8d046ee729...</td>\n",
       "      <td>1627773318</td>\n",
       "      <td>1627773318</td>\n",
       "      <td>deposit</td>\n",
       "      <td>{'type': 'Deposit', 'amount': '400000000000000...</td>\n",
       "      <td>0</td>\n",
       "      <td>{'$date': '2025-05-08T20:25:33.141Z'}</td>\n",
       "      <td>{'$date': '2025-05-08T20:25:33.141Z'}</td>\n",
       "    </tr>\n",
       "    <tr>\n",
       "      <th>4</th>\n",
       "      <td>{'$oid': '681899e4ba49fc91cf2f4454'}</td>\n",
       "      <td>0x0000000000e189dd664b9ab08a33c4839953852c</td>\n",
       "      <td>polygon</td>\n",
       "      <td>aave_v2</td>\n",
       "      <td>0x590eabb812c5006a6f4766f44e6e9d3ad0b5b563de69...</td>\n",
       "      <td>0x590eabb812c5006a6f4766f44e6e9d3ad0b5b563de69...</td>\n",
       "      <td>1618845907</td>\n",
       "      <td>1618845907</td>\n",
       "      <td>redeemunderlying</td>\n",
       "      <td>{'type': 'RedeemUnderlying', 'amount': '501548...</td>\n",
       "      <td>0</td>\n",
       "      <td>{'$date': '2025-05-05T10:58:45.934Z'}</td>\n",
       "      <td>{'$date': '2025-05-05T10:58:45.934Z'}</td>\n",
       "    </tr>\n",
       "  </tbody>\n",
       "</table>\n",
       "</div>"
      ],
      "text/plain": [
       "                                    _id  \\\n",
       "0  {'$oid': '681d38fed63812d4655f571a'}   \n",
       "1  {'$oid': '681aa70dd6df53021cc6f3c0'}   \n",
       "2  {'$oid': '681d04c2d63812d4654c733e'}   \n",
       "3  {'$oid': '681d133bd63812d46551b6ef'}   \n",
       "4  {'$oid': '681899e4ba49fc91cf2f4454'}   \n",
       "\n",
       "                                   userWallet  network protocol  \\\n",
       "0  0x00000000001accfa9cef68cf5371a23025b6d4b6  polygon  aave_v2   \n",
       "1  0x000000000051d07a4fb3bd10121a343d85818da6  polygon  aave_v2   \n",
       "2  0x000000000096026fb41fc39f9875d164bd82e2dc  polygon  aave_v2   \n",
       "3  0x000000000096026fb41fc39f9875d164bd82e2dc  polygon  aave_v2   \n",
       "4  0x0000000000e189dd664b9ab08a33c4839953852c  polygon  aave_v2   \n",
       "\n",
       "                                              txHash  \\\n",
       "0  0x695c69acf608fbf5d38e48ca5535e118cc213a89e3d6...   \n",
       "1  0xe6fc162c86b2928b0ba9b82bda672763665152b9de9d...   \n",
       "2  0xe2d7eb815c89331a734ed6f204a06c385a1b39040baa...   \n",
       "3  0x0d63a2eacd82b82f868db825ea7385e6bd8d046ee729...   \n",
       "4  0x590eabb812c5006a6f4766f44e6e9d3ad0b5b563de69...   \n",
       "\n",
       "                                               logId   timestamp  blockNumber  \\\n",
       "0  0x695c69acf608fbf5d38e48ca5535e118cc213a89e3d6...  1629178166   1629178166   \n",
       "1  0xe6fc162c86b2928b0ba9b82bda672763665152b9de9d...  1621525013   1621525013   \n",
       "2  0xe2d7eb815c89331a734ed6f204a06c385a1b39040baa...  1627118913   1627118913   \n",
       "3  0x0d63a2eacd82b82f868db825ea7385e6bd8d046ee729...  1627773318   1627773318   \n",
       "4  0x590eabb812c5006a6f4766f44e6e9d3ad0b5b563de69...  1618845907   1618845907   \n",
       "\n",
       "             action                                         actionData  __v  \\\n",
       "0           deposit  {'type': 'Deposit', 'amount': '2000000000', 'a...    0   \n",
       "1           deposit  {'type': 'Deposit', 'amount': '145000000000000...    0   \n",
       "2           deposit  {'type': 'Deposit', 'amount': '100000000000000...    0   \n",
       "3           deposit  {'type': 'Deposit', 'amount': '400000000000000...    0   \n",
       "4  redeemunderlying  {'type': 'RedeemUnderlying', 'amount': '501548...    0   \n",
       "\n",
       "                               createdAt  \\\n",
       "0  {'$date': '2025-05-08T23:06:39.465Z'}   \n",
       "1  {'$date': '2025-05-07T00:19:26.159Z'}   \n",
       "2  {'$date': '2025-05-08T19:23:47.877Z'}   \n",
       "3  {'$date': '2025-05-08T20:25:33.141Z'}   \n",
       "4  {'$date': '2025-05-05T10:58:45.934Z'}   \n",
       "\n",
       "                               updatedAt  \n",
       "0  {'$date': '2025-05-08T23:06:39.465Z'}  \n",
       "1  {'$date': '2025-05-07T00:19:26.159Z'}  \n",
       "2  {'$date': '2025-05-08T19:23:47.877Z'}  \n",
       "3  {'$date': '2025-05-08T20:25:33.141Z'}  \n",
       "4  {'$date': '2025-05-05T10:58:45.934Z'}  "
      ]
     },
     "execution_count": 2,
     "metadata": {},
     "output_type": "execute_result"
    }
   ],
   "source": [
    "## load the json \n",
    "with open(\"user-wallet-transactions.json\", 'r') as f:\n",
    "    data=json.load(f)\n",
    "df = pd.DataFrame(data)\n",
    "df.head()    "
   ]
  },
  {
   "cell_type": "code",
   "execution_count": 3,
   "id": "a605a629-9e56-4171-99b6-7fef9ca70af8",
   "metadata": {},
   "outputs": [
    {
     "data": {
      "text/plain": [
       "(100000, 13)"
      ]
     },
     "execution_count": 3,
     "metadata": {},
     "output_type": "execute_result"
    }
   ],
   "source": [
    "df.shape"
   ]
  },
  {
   "cell_type": "code",
   "execution_count": 4,
   "id": "0c794190-e3d9-4901-a665-f0d551022547",
   "metadata": {},
   "outputs": [
    {
     "data": {
      "text/plain": [
       "Index(['_id', 'userWallet', 'network', 'protocol', 'txHash', 'logId',\n",
       "       'timestamp', 'blockNumber', 'action', 'actionData', '__v', 'createdAt',\n",
       "       'updatedAt'],\n",
       "      dtype='object')"
      ]
     },
     "execution_count": 4,
     "metadata": {},
     "output_type": "execute_result"
    }
   ],
   "source": [
    "df.columns"
   ]
  },
  {
   "cell_type": "code",
   "execution_count": 5,
   "id": "54c269ee-8cbb-46ea-acc9-f8bd02c0d46d",
   "metadata": {},
   "outputs": [
    {
     "data": {
      "text/plain": [
       "action\n",
       "deposit             37808\n",
       "redeemunderlying    32305\n",
       "borrow              17086\n",
       "repay               12553\n",
       "liquidationcall       248\n",
       "Name: count, dtype: int64"
      ]
     },
     "execution_count": 5,
     "metadata": {},
     "output_type": "execute_result"
    }
   ],
   "source": [
    "df['action'].value_counts()"
   ]
  },
  {
   "cell_type": "code",
   "execution_count": 6,
   "id": "10ab3440-ff70-42e7-a48b-740b119cf760",
   "metadata": {},
   "outputs": [
    {
     "data": {
      "text/plain": [
       "_id            0\n",
       "userWallet     0\n",
       "network        0\n",
       "protocol       0\n",
       "txHash         0\n",
       "logId          0\n",
       "timestamp      0\n",
       "blockNumber    0\n",
       "action         0\n",
       "actionData     0\n",
       "__v            0\n",
       "createdAt      0\n",
       "updatedAt      0\n",
       "dtype: int64"
      ]
     },
     "execution_count": 6,
     "metadata": {},
     "output_type": "execute_result"
    }
   ],
   "source": [
    "df.isnull().sum()"
   ]
  },
  {
   "cell_type": "code",
   "execution_count": 7,
   "id": "9ab1c986-d0d8-4e63-9530-76acf6bdcf4c",
   "metadata": {},
   "outputs": [
    {
     "data": {
      "text/plain": [
       "array([1629178166, 1621525013, 1627118913, 1627773318, 1618845907],\n",
       "      dtype=int64)"
      ]
     },
     "execution_count": 7,
     "metadata": {},
     "output_type": "execute_result"
    }
   ],
   "source": [
    "df['timestamp'].iloc[:5].values"
   ]
  },
  {
   "cell_type": "code",
   "execution_count": 8,
   "id": "ca895e2b-8641-4e2e-ba0d-335269e2dae8",
   "metadata": {
    "scrolled": true
   },
   "outputs": [
    {
     "data": {
      "text/html": [
       "<div>\n",
       "<style scoped>\n",
       "    .dataframe tbody tr th:only-of-type {\n",
       "        vertical-align: middle;\n",
       "    }\n",
       "\n",
       "    .dataframe tbody tr th {\n",
       "        vertical-align: top;\n",
       "    }\n",
       "\n",
       "    .dataframe thead th {\n",
       "        text-align: right;\n",
       "    }\n",
       "</style>\n",
       "<table border=\"1\" class=\"dataframe\">\n",
       "  <thead>\n",
       "    <tr style=\"text-align: right;\">\n",
       "      <th></th>\n",
       "      <th>userWallet</th>\n",
       "      <th>action</th>\n",
       "      <th>amount</th>\n",
       "      <th>datetime</th>\n",
       "    </tr>\n",
       "  </thead>\n",
       "  <tbody>\n",
       "    <tr>\n",
       "      <th>0</th>\n",
       "      <td>0x00000000001accfa9cef68cf5371a23025b6d4b6</td>\n",
       "      <td>deposit</td>\n",
       "      <td>2.000000e-09</td>\n",
       "      <td>2021-08-17 05:29:26</td>\n",
       "    </tr>\n",
       "    <tr>\n",
       "      <th>1</th>\n",
       "      <td>0x000000000051d07a4fb3bd10121a343d85818da6</td>\n",
       "      <td>deposit</td>\n",
       "      <td>1.450000e+02</td>\n",
       "      <td>2021-05-20 15:36:53</td>\n",
       "    </tr>\n",
       "    <tr>\n",
       "      <th>2</th>\n",
       "      <td>0x000000000096026fb41fc39f9875d164bd82e2dc</td>\n",
       "      <td>deposit</td>\n",
       "      <td>1.000000e-03</td>\n",
       "      <td>2021-07-24 09:28:33</td>\n",
       "    </tr>\n",
       "    <tr>\n",
       "      <th>3</th>\n",
       "      <td>0x000000000096026fb41fc39f9875d164bd82e2dc</td>\n",
       "      <td>deposit</td>\n",
       "      <td>4.000000e-03</td>\n",
       "      <td>2021-07-31 23:15:18</td>\n",
       "    </tr>\n",
       "    <tr>\n",
       "      <th>4</th>\n",
       "      <td>0x0000000000e189dd664b9ab08a33c4839953852c</td>\n",
       "      <td>redeemunderlying</td>\n",
       "      <td>5.015480e-13</td>\n",
       "      <td>2021-04-19 15:25:07</td>\n",
       "    </tr>\n",
       "  </tbody>\n",
       "</table>\n",
       "</div>"
      ],
      "text/plain": [
       "                                   userWallet            action        amount  \\\n",
       "0  0x00000000001accfa9cef68cf5371a23025b6d4b6           deposit  2.000000e-09   \n",
       "1  0x000000000051d07a4fb3bd10121a343d85818da6           deposit  1.450000e+02   \n",
       "2  0x000000000096026fb41fc39f9875d164bd82e2dc           deposit  1.000000e-03   \n",
       "3  0x000000000096026fb41fc39f9875d164bd82e2dc           deposit  4.000000e-03   \n",
       "4  0x0000000000e189dd664b9ab08a33c4839953852c  redeemunderlying  5.015480e-13   \n",
       "\n",
       "             datetime  \n",
       "0 2021-08-17 05:29:26  \n",
       "1 2021-05-20 15:36:53  \n",
       "2 2021-07-24 09:28:33  \n",
       "3 2021-07-31 23:15:18  \n",
       "4 2021-04-19 15:25:07  "
      ]
     },
     "execution_count": 8,
     "metadata": {},
     "output_type": "execute_result"
    }
   ],
   "source": [
    "# convert timestamp to date-time\n",
    "df['datetime']=pd.to_datetime(df['timestamp'],unit='s')\n",
    "# EXTRACT AMOUNT \n",
    "df['amount'] = df['actionData'].apply(lambda x: float(x.get('amount', 0)) / 1e18  if isinstance(x, dict) else 0)\n",
    "df[['userWallet', 'action', 'amount', 'datetime']].head()"
   ]
  },
  {
   "cell_type": "code",
   "execution_count": 9,
   "id": "7d8717dc-ac57-417d-8526-d13b8fb44abb",
   "metadata": {},
   "outputs": [
    {
     "data": {
      "text/plain": [
       "action\n",
       "deposit             2.199551e+08\n",
       "borrow              1.689871e+08\n",
       "redeemunderlying    1.610282e+08\n",
       "repay               1.045092e+08\n",
       "liquidationcall     0.000000e+00\n",
       "Name: amount, dtype: float64"
      ]
     },
     "execution_count": 9,
     "metadata": {},
     "output_type": "execute_result"
    }
   ],
   "source": [
    "df.groupby('action')['amount'].sum().sort_values(ascending=False)\n"
   ]
  },
  {
   "cell_type": "code",
   "execution_count": 10,
   "id": "dccad6c3-5738-4c15-8bb5-eca8ad245fc5",
   "metadata": {},
   "outputs": [],
   "source": [
    "## Feature engineering \n",
    "# we will create wallet level  agg Fatures"
   ]
  },
  {
   "cell_type": "code",
   "execution_count": 11,
   "id": "1026e943-1879-4257-a651-6fc88475e432",
   "metadata": {},
   "outputs": [],
   "source": [
    "# Prepare transaction-wise action summaries per wallet(pivot table )\n",
    "action_pivot = df.pivot_table(\n",
    "    index='userWallet',\n",
    "    columns='action',\n",
    "    values='amount',\n",
    "    aggfunc='sum',\n",
    "    fill_value=0\n",
    ").reset_index()\n",
    "\n",
    "# creating features for number of unique activity_days,first and lasst transactions,total transactions,\n",
    "df['timestamp'] = pd.to_datetime(df['timestamp'], unit='s')\n",
    "df['date'] = df['timestamp'].dt.date\n",
    "## time based Feautures\n",
    "wallet_time = df.groupby(\"userWallet\").agg(\n",
    "    first_tx=(\"timestamp\", \"min\"),\n",
    "    last_tx=(\"timestamp\", \"max\"),\n",
    "    tx_count=(\"timestamp\", \"count\"),\n",
    "    active_days=(\"date\", \"nunique\")\n",
    ").reset_index()\n",
    "wallet_time[\"avg_tx_per_day\"] = wallet_time[\"tx_count\"] / wallet_time[\"active_days\"]\n",
    "\n",
    "# Step 3: Merge Everything Together\n",
    "features_df = action_pivot.merge(wallet_time, on=\"userWallet\", how=\"left\")\n",
    "\n",
    "# Step 4: Custom Net Position Feature\n",
    "features_df[\"net_position\"] = (\n",
    "    features_df.get(\"deposit\", 0) +\n",
    "    features_df.get(\"repay\", 0) -\n",
    "    features_df.get(\"borrow\", 0) -\n",
    "    features_df.get(\"redeemUnderlying\", 0)\n",
    ")\n"
   ]
  },
  {
   "cell_type": "code",
   "execution_count": 12,
   "id": "bffb8fd8-857c-4ca1-8d41-2e30510c5ebf",
   "metadata": {},
   "outputs": [
    {
     "name": "stdout",
     "output_type": "stream",
     "text": [
      "                                   userWallet  credit_score_kmeans  cluster\n",
      "0  0x00000000001accfa9cef68cf5371a23025b6d4b6                  500        0\n",
      "1  0x000000000051d07a4fb3bd10121a343d85818da6                  500        0\n",
      "2  0x000000000096026fb41fc39f9875d164bd82e2dc                  500        0\n",
      "3  0x0000000000e189dd664b9ab08a33c4839953852c                  500        0\n",
      "4  0x0000000002032370b971dabd36d72f3e5a7bf1ee                  250        3\n"
     ]
    }
   ],
   "source": [
    "#selectingg relavant features for models\n",
    "model_features = features_df[[\n",
    "    \"deposit\", \"repay\", \"borrow\", \"liquidationcall\",\n",
    "    \"net_position\", \"active_days\", \"avg_tx_per_day\"\n",
    "]]\n",
    "#normalize \n",
    "scaler = MinMaxScaler()\n",
    "scaled_features = scaler.fit_transform(model_features)\n",
    "##applying k means to wallet segmentation into 5 clusters\n",
    "kmeans = KMeans(n_clusters=5, random_state=42, n_init=10)\n",
    "features_df[\"cluster\"] = kmeans.fit_predict(scaled_features)\n",
    "# summarizing it per cluster\n",
    "score_summary = features_df.groupby(\"cluster\").agg({\n",
    "    \"deposit\": \"sum\",\n",
    "    \"repay\": \"sum\",\n",
    "    \"borrow\": \"sum\",\n",
    "    \"liquidationcall\": \"sum\",\n",
    "    \"net_position\": \"sum\"\n",
    "})\n",
    "# define a custom metric to score clusters\n",
    "score_summary[\"score_metric\"] = (\n",
    "    score_summary[\"deposit\"] +\n",
    "    score_summary[\"repay\"] -\n",
    "    score_summary[\"borrow\"] -\n",
    "    score_summary[\"liquidationcall\"] +\n",
    "    score_summary[\"net_position\"]\n",
    ").round(2)\n",
    "#Rank clusters from best (1) to worst (5) based on score_metric\n",
    "score_summary[\"rank\"] = score_summary[\"score_metric\"].rank(ascending=False, method='min').astype(int)\n",
    "# Define fixed score for credit score  based on cluster rank\n",
    "rank_to_score = {\n",
    "    1: 1000,\n",
    "    2: 750,\n",
    "    3: 500,\n",
    "    4: 250,\n",
    "    5: 100\n",
    "}\n",
    "# map cluster to rank  and then assign crdit score \n",
    "cluster_to_rank = score_summary[\"rank\"].to_dict()\n",
    "features_df[\"credit_score_kmeans\"] = features_df[\"cluster\"].map(\n",
    "    lambda c: rank_to_score[cluster_to_rank[c]]\n",
    ")\n",
    "\n",
    "wallet_scores = features_df[[\"userWallet\", \"credit_score_kmeans\", \"cluster\"]]\n",
    "wallet_scores.to_csv(\"wallet_credit_scores.csv\", index=False)\n",
    "\n",
    "print(wallet_scores.head())"
   ]
  },
  {
   "cell_type": "code",
   "execution_count": 13,
   "id": "50e12b7d-ca33-46c5-87b2-5daf7845fdd1",
   "metadata": {},
   "outputs": [
    {
     "name": "stdout",
     "output_type": "stream",
     "text": [
      "cluster  credit_score_kmeans\n",
      "0        500                    2853\n",
      "1        750                     169\n",
      "2        1000                      2\n",
      "3        250                      62\n",
      "4        100                     411\n",
      "Name: count, dtype: int64\n"
     ]
    },
    {
     "data": {
      "text/plain": [
       "credit_score_kmeans\n",
       "100      411\n",
       "250       62\n",
       "500     2853\n",
       "750      169\n",
       "1000       2\n",
       "Name: count, dtype: int64"
      ]
     },
     "execution_count": 13,
     "metadata": {},
     "output_type": "execute_result"
    }
   ],
   "source": [
    "print(features_df[[\"cluster\", \"credit_score_kmeans\"]].value_counts().sort_index())\n",
    "features_df[\"credit_score_kmeans\"].value_counts().sort_index()"
   ]
  },
  {
   "cell_type": "code",
   "execution_count": null,
   "id": "fa12f413-16c9-402f-9ca2-bf5bee2285c6",
   "metadata": {},
   "outputs": [],
   "source": []
  },
  {
   "cell_type": "code",
   "execution_count": 14,
   "id": "6adaf141-cf87-48c9-a1bf-7c130355cf8f",
   "metadata": {},
   "outputs": [
    {
     "data": {
      "text/plain": [
       "Index(['userWallet', 'borrow', 'deposit', 'liquidationcall',\n",
       "       'redeemunderlying', 'repay', 'first_tx', 'last_tx', 'tx_count',\n",
       "       'active_days', 'avg_tx_per_day', 'net_position', 'cluster',\n",
       "       'credit_score_kmeans'],\n",
       "      dtype='object')"
      ]
     },
     "execution_count": 14,
     "metadata": {},
     "output_type": "execute_result"
    }
   ],
   "source": [
    "features_df.columns"
   ]
  },
  {
   "cell_type": "code",
   "execution_count": 15,
   "id": "bcf83711-1f1b-4969-973f-e4525135cee6",
   "metadata": {},
   "outputs": [
    {
     "name": "stdout",
     "output_type": "stream",
     "text": [
      "cluster\n",
      "0    2853\n",
      "4     411\n",
      "1     169\n",
      "3      62\n",
      "2       2\n",
      "Name: count, dtype: int64\n"
     ]
    }
   ],
   "source": [
    "print(features_df['cluster'].value_counts())\n"
   ]
  },
  {
   "cell_type": "code",
   "execution_count": 16,
   "id": "49381030-21b5-4d9b-9d1e-89157c2da798",
   "metadata": {},
   "outputs": [
    {
     "data": {
      "image/png": "[encoded data removed]",
      "text/plain": [
       "<Figure size 1000x600 with 1 Axes>"
      ]
     },
     "metadata": {},
     "output_type": "display_data"
    }
   ],
   "source": [
    "\n",
    "sns.set(style=\"whitegrid\")\n",
    "# Plot credit score distribution\n",
    "plt.figure(figsize=(10, 6))\n",
    "sns.countplot(data=features_df,x='credit_score_kmeans',hue='credit_score_kmeans',palette='viridis',\n",
    "              order=sorted(features_df['credit_score_kmeans'].unique(), reverse=True))\n",
    "plt.title(\"Credit Score Distribution (KMeans-based)\", fontsize=16)\n",
    "plt.xlabel(\"Credit Score\")\n",
    "plt.ylabel(\"Number of Wallets\")\n",
    "plt.xticks(rotation=0)\n",
    "plt.tight_layout()\n",
    "plt.savefig(\"credit_score_distribution.png\", dpi=300)\n",
    "plt.show()\n"
   ]
  },
  {
   "cell_type": "code",
   "execution_count": 17,
   "id": "093248c8-1d3e-45db-a7bc-655bde313e2d",
   "metadata": {},
   "outputs": [
    {
     "data": {
      "image/png": "[encoded data removed]",
      "text/plain": [
       "<Figure size 1200x600 with 1 Axes>"
      ]
     },
     "metadata": {},
     "output_type": "display_data"
    }
   ],
   "source": [
    "cluster_means = features_df.groupby('credit_score_kmeans')[['borrow', 'deposit', 'repay', 'net_position', 'tx_count']].mean()\n",
    "cluster_means.T.plot(kind='bar', figsize=(12, 6))\n",
    "plt.title('Mean Feature Values by Cluster')\n",
    "plt.ylabel('Average Value')\n",
    "plt.xlabel('Features')\n",
    "plt.xticks(rotation=45)\n",
    "plt.grid(True)\n",
    "plt.savefig(\"mean_feature.png\", dpi=300)\n",
    "plt.show()"
   ]
  },
  {
   "cell_type": "code",
   "execution_count": null,
   "id": "142d646f-dc94-4701-9fa2-791feef28f98",
   "metadata": {},
   "outputs": [],
   "source": []
  },
  {
   "cell_type": "code",
   "execution_count": null,
   "id": "adeb06ee-f3a9-4742-84aa-93641ec05f5b",
   "metadata": {},
   "outputs": [],
   "source": []
  },
  {
   "cell_type": "code",
   "execution_count": null,
   "id": "302ec4a7-7194-41f4-99f4-c4123c08874f",
   "metadata": {},
   "outputs": [],
   "source": []
  },
  {
   "cell_type": "code",
   "execution_count": null,
   "id": "a508f17c-84b9-4ed0-baa7-c24d28d06b5f",
   "metadata": {},
   "outputs": [],
   "source": []
  },
  {
   "cell_type": "code",
   "execution_count": null,
   "id": "692cf1b6-5fd8-403d-81b1-5c66aa70c05e",
   "metadata": {},
   "outputs": [],
   "source": []
  },
  {
   "cell_type": "code",
   "execution_count": null,
   "id": "f0728c78-1f22-40de-8816-d0f7e24a73eb",
   "metadata": {},
   "outputs": [],
   "source": []
  },
  {
   "cell_type": "code",
   "execution_count": null,
   "id": "4dd681db-2d90-469b-baf6-fcf79677f58b",
   "metadata": {},
   "outputs": [],
   "source": []
  },
  {
   "cell_type": "code",
   "execution_count": null,
   "id": "73dd2fac-3e8e-4d40-b069-0dab21da5e1f",
   "metadata": {},
   "outputs": [],
   "source": []
  },
  {
   "cell_type": "code",
   "execution_count": null,
   "id": "b8fd6a47-72cb-4ff3-bba0-dcf4b546beb0",
   "metadata": {},
   "outputs": [],
   "source": []
  }
 ],
 "metadata": {
  "kernelspec": {
   "display_name": "Python 3 (ipykernel)",
   "language": "python",
   "name": "python3"
  },
  "language_info": {
   "codemirror_mode": {
    "name": "ipython",
    "version": 3
   },
   "file_extension": ".py",
   "mimetype": "text/x-python",
   "name": "python",
   "nbconvert_exporter": "python",
   "pygments_lexer": "ipython3",
   "version": "3.12.3"
  }
 },
 "nbformat": 4,
 "nbformat_minor": 5
}
